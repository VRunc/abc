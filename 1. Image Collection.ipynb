{
 "cells": [
  {
   "cell_type": "markdown",
   "metadata": {},
   "source": [
    "# 1. Import Dependencies"
   ]
  },
  {
   "cell_type": "code",
   "execution_count": 4,
   "metadata": {},
   "outputs": [
    {
     "name": "stdout",
     "output_type": "stream",
     "text": [
      "Requirement already satisfied: opencv-python in c:\\users\\vlad\\hand detection\\tfodcourse\\tfod\\lib\\site-packages (4.9.0.80)\n",
      "Requirement already satisfied: numpy>=1.21.2 in c:\\users\\vlad\\hand detection\\tfodcourse\\tfod\\lib\\site-packages (from opencv-python) (1.26.3)\n"
     ]
    }
   ],
   "source": [
    "!pip install opencv-python"
   ]
  },
  {
   "cell_type": "code",
   "execution_count": 1,
   "metadata": {},
   "outputs": [],
   "source": [
    "# Import opencv\n",
    "import cv2 \n",
    "\n",
    "# Import uuid\n",
    "import uuid\n",
    "\n",
    "# Import Operating System\n",
    "import os\n",
    "\n",
    "# Import time\n",
    "import time"
   ]
  },
  {
   "cell_type": "markdown",
   "metadata": {},
   "source": [
    "# 2. Define Images to Collect"
   ]
  },
  {
   "cell_type": "code",
   "execution_count": 6,
   "metadata": {},
   "outputs": [],
   "source": [
    "labels = ['hello', 'thumbsdown', 'thumbsup', 'ok']\n",
    "number_imgs = 20"
   ]
  },
  {
   "cell_type": "markdown",
   "metadata": {},
   "source": [
    "# 3. Setup Folders "
   ]
  },
  {
   "cell_type": "code",
   "execution_count": 3,
   "metadata": {},
   "outputs": [],
   "source": [
    "IMAGES_PATH = os.path.join('Tensorflow', 'workspace', 'images', 'collectedimages')"
   ]
  },
  {
   "cell_type": "code",
   "execution_count": 4,
   "metadata": {},
   "outputs": [],
   "source": [
    "if not os.path.exists(IMAGES_PATH):\n",
    "    if os.name == 'posix':\n",
    "        !mkdir -p {IMAGES_PATH}\n",
    "    if os.name == 'nt':\n",
    "         !mkdir {IMAGES_PATH}\n",
    "for label in labels:\n",
    "    path = os.path.join(IMAGES_PATH, label)\n",
    "    if not os.path.exists(path):\n",
    "        !mkdir {path}"
   ]
  },
  {
   "cell_type": "markdown",
   "metadata": {},
   "source": [
    "# 4. Capture Images"
   ]
  },
  {
   "cell_type": "code",
   "execution_count": 7,
   "metadata": {},
   "outputs": [
    {
     "name": "stdout",
     "output_type": "stream",
     "text": [
      "Collecting images for hello\n",
      "Collecting image 0\n",
      "Collecting image 1\n",
      "Collecting image 2\n",
      "Collecting image 3\n",
      "Collecting image 4\n"
     ]
    }
   ],
   "source": [
    "for label in labels:\n",
    "    cap = cv2.VideoCapture(0) #DESCHIDE CAMERA\n",
    "    print('Collecting images for {}'.format(label))\n",
    "    time.sleep(5) #TIMP SA MA PUN IN POZITIE\n",
    "    for imgnum in range(number_imgs):\n",
    "        print('Collecting image {}'.format(imgnum))\n",
    "        ret, frame = cap.read()\n",
    "        imgname = os.path.join(IMAGES_PATH,label,label+'.'+'{}.jpg'.format(str(uuid.uuid1())))\n",
    "        cv2.imwrite(imgname, frame)\n",
    "        cv2.imshow('frame', frame)\n",
    "        time.sleep(3)\n",
    "\n",
    "        if cv2.waitKey(1) & 0xFF == ord('q'):\n",
    "            break\n",
    "cap.release()\n",
    "cv2.destroyAllWindows()"
   ]
  },
  {
   "cell_type": "markdown",
   "metadata": {},
   "source": [
    "# 5. Image Labelling"
   ]
  },
  {
   "cell_type": "code",
   "execution_count": 8,
   "metadata": {},
   "outputs": [
    {
     "name": "stdout",
     "output_type": "stream",
     "text": [
      "Collecting pyqt5\n",
      "  Downloading PyQt5-5.15.10-cp37-abi3-win_amd64.whl.metadata (2.2 kB)\n",
      "Collecting lxml\n",
      "  Downloading lxml-5.1.0-cp311-cp311-win_amd64.whl.metadata (3.6 kB)\n",
      "Collecting PyQt5-sip<13,>=12.13 (from pyqt5)\n",
      "  Downloading PyQt5_sip-12.13.0-cp311-cp311-win_amd64.whl.metadata (524 bytes)\n",
      "Collecting PyQt5-Qt5>=5.15.2 (from pyqt5)\n",
      "  Downloading PyQt5_Qt5-5.15.2-py3-none-win_amd64.whl (50.1 MB)\n",
      "     ---------------------------------------- 0.0/50.1 MB ? eta -:--:--\n",
      "     ---------------------------------------- 0.0/50.1 MB ? eta -:--:--\n",
      "     ---------------------------------------- 0.1/50.1 MB 1.6 MB/s eta 0:00:31\n",
      "     ---------------------------------------- 0.4/50.1 MB 3.4 MB/s eta 0:00:15\n",
      "      --------------------------------------- 0.7/50.1 MB 4.4 MB/s eta 0:00:12\n",
      "      --------------------------------------- 1.0/50.1 MB 5.0 MB/s eta 0:00:10\n",
      "     - -------------------------------------- 1.4/50.1 MB 5.5 MB/s eta 0:00:09\n",
      "     - -------------------------------------- 1.8/50.1 MB 6.0 MB/s eta 0:00:09\n",
      "     - -------------------------------------- 2.2/50.1 MB 6.4 MB/s eta 0:00:08\n",
      "     -- ------------------------------------- 2.7/50.1 MB 6.8 MB/s eta 0:00:07\n",
      "     -- ------------------------------------- 3.2/50.1 MB 7.3 MB/s eta 0:00:07\n",
      "     --- ------------------------------------ 3.8/50.1 MB 7.7 MB/s eta 0:00:06\n",
      "     --- ------------------------------------ 4.4/50.1 MB 8.3 MB/s eta 0:00:06\n",
      "     ---- ----------------------------------- 5.1/50.1 MB 8.8 MB/s eta 0:00:06\n",
      "     ---- ----------------------------------- 5.8/50.1 MB 9.3 MB/s eta 0:00:05\n",
      "     ----- ---------------------------------- 6.6/50.1 MB 9.8 MB/s eta 0:00:05\n",
      "     ----- ---------------------------------- 7.5/50.1 MB 10.4 MB/s eta 0:00:05\n",
      "     ------ --------------------------------- 8.5/50.1 MB 11.1 MB/s eta 0:00:04\n",
      "     ------- -------------------------------- 9.5/50.1 MB 11.7 MB/s eta 0:00:04\n",
      "     -------- ------------------------------ 10.7/50.1 MB 13.9 MB/s eta 0:00:03\n",
      "     --------- ----------------------------- 11.9/50.1 MB 16.8 MB/s eta 0:00:03\n",
      "     ---------- ---------------------------- 13.4/50.1 MB 19.8 MB/s eta 0:00:02\n",
      "     ----------- --------------------------- 14.9/50.1 MB 23.4 MB/s eta 0:00:02\n",
      "     ------------ -------------------------- 16.5/50.1 MB 26.2 MB/s eta 0:00:02\n",
      "     -------------- ------------------------ 18.3/50.1 MB 29.7 MB/s eta 0:00:02\n",
      "     --------------- ----------------------- 20.1/50.1 MB 32.8 MB/s eta 0:00:01\n",
      "     ----------------- --------------------- 21.9/50.1 MB 36.4 MB/s eta 0:00:01\n",
      "     ----------------- --------------------- 23.1/50.1 MB 36.4 MB/s eta 0:00:01\n",
      "     ------------------- ------------------- 24.7/50.1 MB 34.4 MB/s eta 0:00:01\n",
      "     -------------------- ------------------ 26.8/50.1 MB 36.3 MB/s eta 0:00:01\n",
      "     ---------------------- ---------------- 29.0/50.1 MB 38.6 MB/s eta 0:00:01\n",
      "     ----------------------- --------------- 30.6/50.1 MB 40.9 MB/s eta 0:00:01\n",
      "     ------------------------- ------------- 32.2/50.1 MB 38.5 MB/s eta 0:00:01\n",
      "     --------------------------- ----------- 34.8/50.1 MB 43.7 MB/s eta 0:00:01\n",
      "     ----------------------------- --------- 37.7/50.1 MB 46.7 MB/s eta 0:00:01\n",
      "     ------------------------------- ------- 40.9/50.1 MB 59.5 MB/s eta 0:00:01\n",
      "     ---------------------------------- ---- 43.8/50.1 MB 65.2 MB/s eta 0:00:01\n",
      "     ------------------------------------ -- 47.4/50.1 MB 72.6 MB/s eta 0:00:01\n",
      "     --------------------------------------  50.1/50.1 MB 65.6 MB/s eta 0:00:01\n",
      "     --------------------------------------  50.1/50.1 MB 65.6 MB/s eta 0:00:01\n",
      "     --------------------------------------  50.1/50.1 MB 65.6 MB/s eta 0:00:01\n",
      "     --------------------------------------- 50.1/50.1 MB 34.4 MB/s eta 0:00:00\n",
      "Downloading PyQt5-5.15.10-cp37-abi3-win_amd64.whl (6.8 MB)\n",
      "   ---------------------------------------- 0.0/6.8 MB ? eta -:--:--\n",
      "   ------------------ --------------------- 3.1/6.8 MB 65.4 MB/s eta 0:00:01\n",
      "   -------------------------------------- - 6.7/6.8 MB 70.7 MB/s eta 0:00:01\n",
      "   ---------------------------------------- 6.8/6.8 MB 54.6 MB/s eta 0:00:00\n",
      "Downloading lxml-5.1.0-cp311-cp311-win_amd64.whl (3.9 MB)\n",
      "   ---------------------------------------- 0.0/3.9 MB ? eta -:--:--\n",
      "   ---------------------------------------  3.9/3.9 MB 125.9 MB/s eta 0:00:01\n",
      "   ---------------------------------------- 3.9/3.9 MB 62.9 MB/s eta 0:00:00\n",
      "Downloading PyQt5_sip-12.13.0-cp311-cp311-win_amd64.whl (78 kB)\n",
      "   ---------------------------------------- 0.0/78.5 kB ? eta -:--:--\n",
      "   ---------------------------------------- 78.5/78.5 kB ? eta 0:00:00\n",
      "Installing collected packages: PyQt5-Qt5, PyQt5-sip, lxml, pyqt5\n",
      "Successfully installed PyQt5-Qt5-5.15.2 PyQt5-sip-12.13.0 lxml-5.1.0 pyqt5-5.15.10\n"
     ]
    }
   ],
   "source": [
    "!pip install --upgrade pyqt5 lxml"
   ]
  },
  {
   "cell_type": "code",
   "execution_count": 9,
   "metadata": {},
   "outputs": [
    {
     "name": "stdout",
     "output_type": "stream",
     "text": [
      "Package           Version\n",
      "----------------- --------\n",
      "asttokens         2.4.1\n",
      "colorama          0.4.6\n",
      "comm              0.2.1\n",
      "debugpy           1.8.0\n",
      "decorator         5.1.1\n",
      "executing         2.0.1\n",
      "ipykernel         6.29.0\n",
      "ipython           8.20.0\n",
      "jedi              0.19.1\n",
      "jupyter_client    8.6.0\n",
      "jupyter_core      5.7.1\n",
      "lxml              5.1.0\n",
      "matplotlib-inline 0.1.6\n",
      "nest-asyncio      1.5.9\n",
      "numpy             1.26.3\n",
      "opencv-python     4.9.0.80\n",
      "packaging         23.2\n",
      "parso             0.8.3\n",
      "pip               23.3.2\n",
      "platformdirs      4.1.0\n",
      "prompt-toolkit    3.0.43\n",
      "psutil            5.9.7\n",
      "pure-eval         0.2.2\n",
      "Pygments          2.17.2\n",
      "PyQt5             5.15.10\n",
      "PyQt5-Qt5         5.15.2\n",
      "PyQt5-sip         12.13.0\n",
      "python-dateutil   2.8.2\n",
      "pywin32           306\n",
      "pyzmq             25.1.2\n",
      "setuptools        65.5.0\n",
      "six               1.16.0\n",
      "stack-data        0.6.3\n",
      "tornado           6.4\n",
      "traitlets         5.14.1\n",
      "wcwidth           0.2.13\n"
     ]
    }
   ],
   "source": [
    "!pip list\n"
   ]
  },
  {
   "cell_type": "code",
   "execution_count": 11,
   "metadata": {},
   "outputs": [],
   "source": [
    "LABELIMG_PATH = os.path.join('Tensorflow', 'labelimg')"
   ]
  },
  {
   "cell_type": "code",
   "execution_count": 12,
   "metadata": {},
   "outputs": [
    {
     "name": "stderr",
     "output_type": "stream",
     "text": [
      "Cloning into 'Tensorflow\\labelimg'...\n"
     ]
    }
   ],
   "source": [
    "if not os.path.exists(LABELIMG_PATH):\n",
    "    !mkdir {LABELIMG_PATH}\n",
    "    !git clone https://github.com/tzutalin/labelImg {LABELIMG_PATH}"
   ]
  },
  {
   "cell_type": "code",
   "execution_count": 13,
   "metadata": {},
   "outputs": [],
   "source": [
    "if os.name == 'posix':\n",
    "    !make qt5py3\n",
    "if os.name =='nt':\n",
    "    !cd {LABELIMG_PATH} && pyrcc5 -o libs/resources.py resources.qrc"
   ]
  },
  {
   "cell_type": "code",
   "execution_count": 14,
   "metadata": {},
   "outputs": [
    {
     "name": "stdout",
     "output_type": "stream",
     "text": [
      "Cancel creation.\n",
      "Image:C:\\Users\\Vlad\\Hand detection\\TFODCourse\\Tensorflow\\workspace\\images\\collectedimages\\hello\\hello.1ac7074b-b538-11ee-82fa-34c93d2b1695.jpg -> Annotation:C:/Users/Vlad/Hand detection/TFODCourse/Tensorflow/workspace/images/collectedimages/hello\\hello.1ac7074b-b538-11ee-82fa-34c93d2b1695.xml\n",
      "Image:C:\\Users\\Vlad\\Hand detection\\TFODCourse\\Tensorflow\\workspace\\images\\collectedimages\\hello\\hello.1ac7074b-b538-11ee-82fa-34c93d2b1695.jpg -> Annotation:C:/Users/Vlad/Hand detection/TFODCourse/Tensorflow/workspace/images/collectedimages/hello\\hello.1ac7074b-b538-11ee-82fa-34c93d2b1695.xml\n",
      "Image:C:\\Users\\Vlad\\Hand detection\\TFODCourse\\Tensorflow\\workspace\\images\\collectedimages\\hello\\hello.1ac7074b-b538-11ee-82fa-34c93d2b1695.jpg -> Annotation:C:/Users/Vlad/Hand detection/TFODCourse/Tensorflow/workspace/images/collectedimages/hello\\hello.1ac7074b-b538-11ee-82fa-34c93d2b1695.xml\n",
      "Cancel creation.\n",
      "Image:C:\\Users\\Vlad\\Hand detection\\TFODCourse\\Tensorflow\\workspace\\images\\collectedimages\\hello\\hello.1c94b1dd-b538-11ee-aff4-34c93d2b1695.jpg -> Annotation:C:/Users/Vlad/Hand detection/TFODCourse/Tensorflow/workspace/images/collectedimages/hello\\hello.1c94b1dd-b538-11ee-aff4-34c93d2b1695.xml\n",
      "Cancel creation.\n",
      "Image:C:\\Users\\Vlad\\Hand detection\\TFODCourse\\Tensorflow\\workspace\\images\\collectedimages\\hello\\hello.1e62e68c-b538-11ee-ab3c-34c93d2b1695.jpg -> Annotation:C:/Users/Vlad/Hand detection/TFODCourse/Tensorflow/workspace/images/collectedimages/hello\\hello.1e62e68c-b538-11ee-ab3c-34c93d2b1695.xml\n",
      "Cancel creation.\n",
      "Cancel creation.\n",
      "Cancel creation.\n",
      "Image:C:\\Users\\Vlad\\Hand detection\\TFODCourse\\Tensorflow\\workspace\\images\\collectedimages\\hello\\hello.9c4e0ab7-b534-11ee-9437-34c93d2b1695.jpg -> Annotation:C:/Users/Vlad/Hand detection/TFODCourse/Tensorflow/workspace/images/collectedimages/hello\\hello.9c4e0ab7-b534-11ee-9437-34c93d2b1695.xml\n",
      "Cancel creation.\n",
      "Image:C:\\Users\\Vlad\\Hand detection\\TFODCourse\\Tensorflow\\workspace\\images\\collectedimages\\hello\\hello.9e1a8417-b534-11ee-8aa3-34c93d2b1695.jpg -> Annotation:C:/Users/Vlad/Hand detection/TFODCourse/Tensorflow/workspace/images/collectedimages/hello\\hello.9e1a8417-b534-11ee-8aa3-34c93d2b1695.xml\n",
      "Image:C:\\Users\\Vlad\\Hand detection\\TFODCourse\\Tensorflow\\workspace\\images\\collectedimages\\hello\\hello.9fe85786-b534-11ee-b360-34c93d2b1695.jpg -> Annotation:C:/Users/Vlad/Hand detection/TFODCourse/Tensorflow/workspace/images/collectedimages/hello\\hello.9fe85786-b534-11ee-b360-34c93d2b1695.xml\n",
      "Image:C:\\Users\\Vlad\\Hand detection\\TFODCourse\\Tensorflow\\workspace\\images\\collectedimages\\hello\\hello.18f7877f-b538-11ee-a562-34c93d2b1695.jpg -> Annotation:C:/Users/Vlad/Hand detection/TFODCourse/Tensorflow/workspace/images/collectedimages/hello\\hello.18f7877f-b538-11ee-a562-34c93d2b1695.xml\n",
      "Image:C:\\Users\\Vlad\\Hand detection\\TFODCourse\\Tensorflow\\workspace\\images\\collectedimages\\hello\\hello.96e80f38-b534-11ee-b82b-34c93d2b1695.jpg -> Annotation:C:/Users/Vlad/Hand detection/TFODCourse/Tensorflow/workspace/images/collectedimages/hello\\hello.96e80f38-b534-11ee-b82b-34c93d2b1695.xml\n",
      "Image:C:\\Users\\Vlad\\Hand detection\\TFODCourse\\Tensorflow\\workspace\\images\\collectedimages\\hello\\hello.98b50306-b534-11ee-b472-34c93d2b1695.jpg -> Annotation:C:/Users/Vlad/Hand detection/TFODCourse/Tensorflow/workspace/images/collectedimages/hello\\hello.98b50306-b534-11ee-b472-34c93d2b1695.xml\n",
      "Image:C:\\Users\\Vlad\\Hand detection\\TFODCourse\\Tensorflow\\workspace\\images\\collectedimages\\hello\\hello.934ed969-b534-11ee-8fae-34c93d2b1695.jpg -> Annotation:C:/Users/Vlad/Hand detection/TFODCourse/Tensorflow/workspace/images/collectedimages/hello\\hello.934ed969-b534-11ee-8fae-34c93d2b1695.xml\n",
      "Image:C:\\Users\\Vlad\\Hand detection\\TFODCourse\\Tensorflow\\workspace\\images\\collectedimages\\hello\\hello.951b4a6b-b534-11ee-9aa0-34c93d2b1695.jpg -> Annotation:C:/Users/Vlad/Hand detection/TFODCourse/Tensorflow/workspace/images/collectedimages/hello\\hello.951b4a6b-b534-11ee-9aa0-34c93d2b1695.xml\n",
      "Image:C:\\Users\\Vlad\\Hand detection\\TFODCourse\\Tensorflow\\workspace\\images\\collectedimages\\hello\\hello.9180dda2-b534-11ee-9c9c-34c93d2b1695.jpg -> Annotation:C:/Users/Vlad/Hand detection/TFODCourse/Tensorflow/workspace/images/collectedimages/hello\\hello.9180dda2-b534-11ee-9c9c-34c93d2b1695.xml\n",
      "Image:C:\\Users\\Vlad\\Hand detection\\TFODCourse\\Tensorflow\\workspace\\images\\collectedimages\\hello\\hello.2030134f-b538-11ee-91f7-34c93d2b1695.jpg -> Annotation:C:/Users/Vlad/Hand detection/TFODCourse/Tensorflow/workspace/images/collectedimages/hello\\hello.2030134f-b538-11ee-91f7-34c93d2b1695.xml\n",
      "Image:C:\\Users\\Vlad\\Hand detection\\TFODCourse\\Tensorflow\\workspace\\images\\collectedimages\\hello\\hello.a1b4ae5a-b534-11ee-8f92-34c93d2b1695.jpg -> Annotation:C:/Users/Vlad/Hand detection/TFODCourse/Tensorflow/workspace/images/collectedimages/hello\\hello.a1b4ae5a-b534-11ee-8f92-34c93d2b1695.xml\n",
      "Image:C:\\Users\\Vlad\\Hand detection\\TFODCourse\\Tensorflow\\workspace\\images\\collectedimages\\hello\\hello.a8e80fe7-b534-11ee-9fd9-34c93d2b1695.jpg -> Annotation:C:/Users/Vlad/Hand detection/TFODCourse/Tensorflow/workspace/images/collectedimages/hello\\hello.a8e80fe7-b534-11ee-9fd9-34c93d2b1695.xml\n",
      "Image:C:\\Users\\Vlad\\Hand detection\\TFODCourse\\Tensorflow\\workspace\\images\\collectedimages\\hello\\hello.a54e22ab-b534-11ee-b1e2-34c93d2b1695.jpg -> Annotation:C:/Users/Vlad/Hand detection/TFODCourse/Tensorflow/workspace/images/collectedimages/hello\\hello.a54e22ab-b534-11ee-b1e2-34c93d2b1695.xml\n",
      "Image:C:\\Users\\Vlad\\Hand detection\\TFODCourse\\Tensorflow\\workspace\\images\\collectedimages\\hello\\hello.a71b9c4d-b534-11ee-9df2-34c93d2b1695.jpg -> Annotation:C:/Users/Vlad/Hand detection/TFODCourse/Tensorflow/workspace/images/collectedimages/hello\\hello.a71b9c4d-b534-11ee-9df2-34c93d2b1695.xml\n",
      "Image:C:\\Users\\Vlad\\Hand detection\\TFODCourse\\Tensorflow\\workspace\\images\\collectedimages\\hello\\hello.a38135b6-b534-11ee-b56b-34c93d2b1695.jpg -> Annotation:C:/Users/Vlad/Hand detection/TFODCourse/Tensorflow/workspace/images/collectedimages/hello\\hello.a38135b6-b534-11ee-b56b-34c93d2b1695.xml\n",
      "Image:C:\\Users\\Vlad\\Hand detection\\TFODCourse\\Tensorflow\\workspace\\images\\collectedimages\\hello\\hello.b1ebe376-b534-11ee-b5a0-34c93d2b1695.jpg -> Annotation:C:/Users/Vlad/Hand detection/TFODCourse/Tensorflow/workspace/images/collectedimages/hello\\hello.b1ebe376-b534-11ee-b5a0-34c93d2b1695.xml\n",
      "Image:C:\\Users\\Vlad\\Hand detection\\TFODCourse\\Tensorflow\\workspace\\images\\collectedimages\\hello\\hello.b01ffdd0-b534-11ee-bb51-34c93d2b1695.jpg -> Annotation:C:/Users/Vlad/Hand detection/TFODCourse/Tensorflow/workspace/images/collectedimages/hello\\hello.b01ffdd0-b534-11ee-bb51-34c93d2b1695.xml\n",
      "Image:C:\\Users\\Vlad\\Hand detection\\TFODCourse\\Tensorflow\\workspace\\images\\collectedimages\\hello\\hello.b3b8b190-b534-11ee-b2f0-34c93d2b1695.jpg -> Annotation:C:/Users/Vlad/Hand detection/TFODCourse/Tensorflow/workspace/images/collectedimages/hello\\hello.b3b8b190-b534-11ee-b2f0-34c93d2b1695.xml\n",
      "Image:C:\\Users\\Vlad\\Hand detection\\TFODCourse\\Tensorflow\\workspace\\images\\collectedimages\\ok\\ok.0b796907-b535-11ee-bba9-34c93d2b1695.jpg -> Annotation:C:/Users/Vlad/Hand detection/TFODCourse/Tensorflow/workspace/images/collectedimages/ok\\ok.0b796907-b535-11ee-bba9-34c93d2b1695.xml\n",
      "Image:C:\\Users\\Vlad\\Hand detection\\TFODCourse\\Tensorflow\\workspace\\images\\collectedimages\\ok\\ok.0d458d1b-b535-11ee-88fb-34c93d2b1695.jpg -> Annotation:C:/Users/Vlad/Hand detection/TFODCourse/Tensorflow/workspace/images/collectedimages/ok\\ok.0d458d1b-b535-11ee-88fb-34c93d2b1695.xml\n",
      "Image:C:\\Users\\Vlad\\Hand detection\\TFODCourse\\Tensorflow\\workspace\\images\\collectedimages\\ok\\ok.0b796907-b535-11ee-bba9-34c93d2b1695.jpg -> Annotation:C:/Users/Vlad/Hand detection/TFODCourse/Tensorflow/workspace/images/collectedimages/ok\\ok.0b796907-b535-11ee-bba9-34c93d2b1695.xml\n",
      "Image:C:\\Users\\Vlad\\Hand detection\\TFODCourse\\Tensorflow\\workspace\\images\\collectedimages\\ok\\ok.0d458d1b-b535-11ee-88fb-34c93d2b1695.jpg -> Annotation:C:/Users/Vlad/Hand detection/TFODCourse/Tensorflow/workspace/images/collectedimages/ok\\ok.0d458d1b-b535-11ee-88fb-34c93d2b1695.xml\n",
      "Image:C:\\Users\\Vlad\\Hand detection\\TFODCourse\\Tensorflow\\workspace\\images\\collectedimages\\ok\\ok.0f10e8b9-b535-11ee-86bb-34c93d2b1695.jpg -> Annotation:C:/Users/Vlad/Hand detection/TFODCourse/Tensorflow/workspace/images/collectedimages/ok\\ok.0f10e8b9-b535-11ee-86bb-34c93d2b1695.xml\n",
      "Image:C:\\Users\\Vlad\\Hand detection\\TFODCourse\\Tensorflow\\workspace\\images\\collectedimages\\ok\\ok.1ba86bd5-b535-11ee-91f3-34c93d2b1695.jpg -> Annotation:C:/Users/Vlad/Hand detection/TFODCourse/Tensorflow/workspace/images/collectedimages/ok\\ok.1ba86bd5-b535-11ee-91f3-34c93d2b1695.xml\n",
      "Image:C:\\Users\\Vlad\\Hand detection\\TFODCourse\\Tensorflow\\workspace\\images\\collectedimages\\ok\\ok.1d74b83d-b535-11ee-9406-34c93d2b1695.jpg -> Annotation:C:/Users/Vlad/Hand detection/TFODCourse/Tensorflow/workspace/images/collectedimages/ok\\ok.1d74b83d-b535-11ee-9406-34c93d2b1695.xml\n",
      "Image:C:\\Users\\Vlad\\Hand detection\\TFODCourse\\Tensorflow\\workspace\\images\\collectedimages\\ok\\ok.1f417988-b535-11ee-b3ec-34c93d2b1695.jpg -> Annotation:C:/Users/Vlad/Hand detection/TFODCourse/Tensorflow/workspace/images/collectedimages/ok\\ok.1f417988-b535-11ee-b3ec-34c93d2b1695.xml\n",
      "Image:C:\\Users\\Vlad\\Hand detection\\TFODCourse\\Tensorflow\\workspace\\images\\collectedimages\\ok\\ok.2a13d471-b535-11ee-8981-34c93d2b1695.jpg -> Annotation:C:/Users/Vlad/Hand detection/TFODCourse/Tensorflow/workspace/images/collectedimages/ok\\ok.2a13d471-b535-11ee-8981-34c93d2b1695.xml\n",
      "Image:C:\\Users\\Vlad\\Hand detection\\TFODCourse\\Tensorflow\\workspace\\images\\collectedimages\\ok\\ok.2a13d471-b535-11ee-8981-34c93d2b1695.jpg -> Annotation:C:/Users/Vlad/Hand detection/TFODCourse/Tensorflow/workspace/images/collectedimages/ok\\ok.2a13d471-b535-11ee-8981-34c93d2b1695.xml\n",
      "Image:C:\\Users\\Vlad\\Hand detection\\TFODCourse\\Tensorflow\\workspace\\images\\collectedimages\\ok\\ok.2bdf15eb-b535-11ee-aa04-34c93d2b1695.jpg -> Annotation:C:/Users/Vlad/Hand detection/TFODCourse/Tensorflow/workspace/images/collectedimages/ok\\ok.2bdf15eb-b535-11ee-aa04-34c93d2b1695.xml\n",
      "Image:C:\\Users\\Vlad\\Hand detection\\TFODCourse\\Tensorflow\\workspace\\images\\collectedimages\\ok\\ok.2bdf15eb-b535-11ee-aa04-34c93d2b1695.jpg -> Annotation:C:/Users/Vlad/Hand detection/TFODCourse/Tensorflow/workspace/images/collectedimages/ok\\ok.2bdf15eb-b535-11ee-aa04-34c93d2b1695.xml\n",
      "Image:C:\\Users\\Vlad\\Hand detection\\TFODCourse\\Tensorflow\\workspace\\images\\collectedimages\\ok\\ok.2dabfdf7-b535-11ee-a354-34c93d2b1695.jpg -> Annotation:C:/Users/Vlad/Hand detection/TFODCourse/Tensorflow/workspace/images/collectedimages/ok\\ok.2dabfdf7-b535-11ee-a354-34c93d2b1695.xml\n",
      "Image:C:\\Users\\Vlad\\Hand detection\\TFODCourse\\Tensorflow\\workspace\\images\\collectedimages\\ok\\ok.10dc661f-b535-11ee-9c6a-34c93d2b1695.jpg -> Annotation:C:/Users/Vlad/Hand detection/TFODCourse/Tensorflow/workspace/images/collectedimages/ok\\ok.10dc661f-b535-11ee-9c6a-34c93d2b1695.xml\n",
      "Image:C:\\Users\\Vlad\\Hand detection\\TFODCourse\\Tensorflow\\workspace\\images\\collectedimages\\ok\\ok.12ab8e8a-b535-11ee-bdfd-34c93d2b1695.jpg -> Annotation:C:/Users/Vlad/Hand detection/TFODCourse/Tensorflow/workspace/images/collectedimages/ok\\ok.12ab8e8a-b535-11ee-bdfd-34c93d2b1695.xml\n",
      "Image:C:\\Users\\Vlad\\Hand detection\\TFODCourse\\Tensorflow\\workspace\\images\\collectedimages\\ok\\ok.19dc5a6b-b535-11ee-ae4a-34c93d2b1695.jpg -> Annotation:C:/Users/Vlad/Hand detection/TFODCourse/Tensorflow/workspace/images/collectedimages/ok\\ok.19dc5a6b-b535-11ee-ae4a-34c93d2b1695.xml\n",
      "Image:C:\\Users\\Vlad\\Hand detection\\TFODCourse\\Tensorflow\\workspace\\images\\collectedimages\\ok\\ok.19dc5a6b-b535-11ee-ae4a-34c93d2b1695.jpg -> Annotation:C:/Users/Vlad/Hand detection/TFODCourse/Tensorflow/workspace/images/collectedimages/ok\\ok.19dc5a6b-b535-11ee-ae4a-34c93d2b1695.xml\n",
      "Image:C:\\Users\\Vlad\\Hand detection\\TFODCourse\\Tensorflow\\workspace\\images\\collectedimages\\ok\\ok.22dabec8-b535-11ee-bc87-34c93d2b1695.jpg -> Annotation:C:/Users/Vlad/Hand detection/TFODCourse/Tensorflow/workspace/images/collectedimages/ok\\ok.22dabec8-b535-11ee-bc87-34c93d2b1695.xml\n",
      "Image:C:\\Users\\Vlad\\Hand detection\\TFODCourse\\Tensorflow\\workspace\\images\\collectedimages\\ok\\ok.24a74623-b535-11ee-aea1-34c93d2b1695.jpg -> Annotation:C:/Users/Vlad/Hand detection/TFODCourse/Tensorflow/workspace/images/collectedimages/ok\\ok.24a74623-b535-11ee-aea1-34c93d2b1695.xml\n",
      "Image:C:\\Users\\Vlad\\Hand detection\\TFODCourse\\Tensorflow\\workspace\\images\\collectedimages\\ok\\ok.210e27b2-b535-11ee-95fc-34c93d2b1695.jpg -> Annotation:C:/Users/Vlad/Hand detection/TFODCourse/Tensorflow/workspace/images/collectedimages/ok\\ok.210e27b2-b535-11ee-95fc-34c93d2b1695.xml\n",
      "Image:C:\\Users\\Vlad\\Hand detection\\TFODCourse\\Tensorflow\\workspace\\images\\collectedimages\\ok\\ok.267a2d54-b535-11ee-b3b2-34c93d2b1695.jpg -> Annotation:C:/Users/Vlad/Hand detection/TFODCourse/Tensorflow/workspace/images/collectedimages/ok\\ok.267a2d54-b535-11ee-b3b2-34c93d2b1695.xml\n",
      "Image:C:\\Users\\Vlad\\Hand detection\\TFODCourse\\Tensorflow\\workspace\\images\\collectedimages\\ok\\ok.2846e444-b535-11ee-a560-34c93d2b1695.jpg -> Annotation:C:/Users/Vlad/Hand detection/TFODCourse/Tensorflow/workspace/images/collectedimages/ok\\ok.2846e444-b535-11ee-a560-34c93d2b1695.xml\n",
      "Image:C:\\Users\\Vlad\\Hand detection\\TFODCourse\\Tensorflow\\workspace\\images\\collectedimages\\ok\\ok.14787d44-b535-11ee-8cc6-34c93d2b1695.jpg -> Annotation:C:/Users/Vlad/Hand detection/TFODCourse/Tensorflow/workspace/images/collectedimages/ok\\ok.14787d44-b535-11ee-8cc6-34c93d2b1695.xml\n",
      "Image:C:\\Users\\Vlad\\Hand detection\\TFODCourse\\Tensorflow\\workspace\\images\\collectedimages\\ok\\ok.18105aa8-b535-11ee-91ef-34c93d2b1695.jpg -> Annotation:C:/Users/Vlad/Hand detection/TFODCourse/Tensorflow/workspace/images/collectedimages/ok\\ok.18105aa8-b535-11ee-91ef-34c93d2b1695.xml\n",
      "Cancel creation.\n",
      "Cancel creation.\n",
      "Image:C:\\Users\\Vlad\\Hand detection\\TFODCourse\\Tensorflow\\workspace\\images\\collectedimages\\ok\\ok.16451af2-b535-11ee-8d50-34c93d2b1695.jpg -> Annotation:C:/Users/Vlad/Hand detection/TFODCourse/Tensorflow/workspace/images/collectedimages/ok\\ok.16451af2-b535-11ee-8d50-34c93d2b1695.xml\n",
      "Image:C:\\Users\\Vlad\\Hand detection\\TFODCourse\\Tensorflow\\workspace\\images\\collectedimages\\thumbsdown\\thumbsdown.ba2cf20c-b534-11ee-9729-34c93d2b1695.jpg -> Annotation:C:/Users/Vlad/Hand detection/TFODCourse/Tensorflow/workspace/images/collectedimages/thumbsdown\\thumbsdown.ba2cf20c-b534-11ee-9729-34c93d2b1695.xml\n",
      "Image:C:\\Users\\Vlad\\Hand detection\\TFODCourse\\Tensorflow\\workspace\\images\\collectedimages\\thumbsdown\\thumbsdown.bbf94190-b534-11ee-a41e-34c93d2b1695.jpg -> Annotation:C:/Users/Vlad/Hand detection/TFODCourse/Tensorflow/workspace/images/collectedimages/thumbsdown\\thumbsdown.bbf94190-b534-11ee-a41e-34c93d2b1695.xml\n",
      "Image:C:\\Users\\Vlad\\Hand detection\\TFODCourse\\Tensorflow\\workspace\\images\\collectedimages\\thumbsdown\\thumbsdown.bdcc653c-b534-11ee-ae8e-34c93d2b1695.jpg -> Annotation:C:/Users/Vlad/Hand detection/TFODCourse/Tensorflow/workspace/images/collectedimages/thumbsdown\\thumbsdown.bdcc653c-b534-11ee-ae8e-34c93d2b1695.xml\n",
      "Image:C:\\Users\\Vlad\\Hand detection\\TFODCourse\\Tensorflow\\workspace\\images\\collectedimages\\thumbsdown\\thumbsdown.bf9979e2-b534-11ee-a8a2-34c93d2b1695.jpg -> Annotation:C:/Users/Vlad/Hand detection/TFODCourse/Tensorflow/workspace/images/collectedimages/thumbsdown\\thumbsdown.bf9979e2-b534-11ee-a8a2-34c93d2b1695.xml\n",
      "Image:C:\\Users\\Vlad\\Hand detection\\TFODCourse\\Tensorflow\\workspace\\images\\collectedimages\\thumbsdown\\thumbsdown.c4fcf33b-b534-11ee-8af6-34c93d2b1695.jpg -> Annotation:C:/Users/Vlad/Hand detection/TFODCourse/Tensorflow/workspace/images/collectedimages/thumbsdown\\thumbsdown.c4fcf33b-b534-11ee-8af6-34c93d2b1695.xml\n",
      "Image:C:\\Users\\Vlad\\Hand detection\\TFODCourse\\Tensorflow\\workspace\\images\\collectedimages\\thumbsdown\\thumbsdown.c6c97f20-b534-11ee-9997-34c93d2b1695.jpg -> Annotation:C:/Users/Vlad/Hand detection/TFODCourse/Tensorflow/workspace/images/collectedimages/thumbsdown\\thumbsdown.c6c97f20-b534-11ee-9997-34c93d2b1695.xml\n",
      "Image:C:\\Users\\Vlad\\Hand detection\\TFODCourse\\Tensorflow\\workspace\\images\\collectedimages\\thumbsdown\\thumbsdown.c330afd1-b534-11ee-94e9-34c93d2b1695.jpg -> Annotation:C:/Users/Vlad/Hand detection/TFODCourse/Tensorflow/workspace/images/collectedimages/thumbsdown\\thumbsdown.c330afd1-b534-11ee-94e9-34c93d2b1695.xml\n",
      "Image:C:\\Users\\Vlad\\Hand detection\\TFODCourse\\Tensorflow\\workspace\\images\\collectedimages\\thumbsdown\\thumbsdown.c895c07f-b534-11ee-a20d-34c93d2b1695.jpg -> Annotation:C:/Users/Vlad/Hand detection/TFODCourse/Tensorflow/workspace/images/collectedimages/thumbsdown\\thumbsdown.c895c07f-b534-11ee-a20d-34c93d2b1695.xml\n",
      "Image:C:\\Users\\Vlad\\Hand detection\\TFODCourse\\Tensorflow\\workspace\\images\\collectedimages\\thumbsdown\\thumbsdown.c16581a2-b534-11ee-9bf8-34c93d2b1695.jpg -> Annotation:C:/Users/Vlad/Hand detection/TFODCourse/Tensorflow/workspace/images/collectedimages/thumbsdown\\thumbsdown.c16581a2-b534-11ee-9bf8-34c93d2b1695.xml\n",
      "Image:C:\\Users\\Vlad\\Hand detection\\TFODCourse\\Tensorflow\\workspace\\images\\collectedimages\\thumbsdown\\thumbsdown.cc2ea9c1-b534-11ee-8965-34c93d2b1695.jpg -> Annotation:C:/Users/Vlad/Hand detection/TFODCourse/Tensorflow/workspace/images/collectedimages/thumbsdown\\thumbsdown.cc2ea9c1-b534-11ee-8965-34c93d2b1695.xml\n",
      "Image:C:\\Users\\Vlad\\Hand detection\\TFODCourse\\Tensorflow\\workspace\\images\\collectedimages\\thumbsdown\\thumbsdown.ca621f8a-b534-11ee-8de6-34c93d2b1695.jpg -> Annotation:C:/Users/Vlad/Hand detection/TFODCourse/Tensorflow/workspace/images/collectedimages/thumbsdown\\thumbsdown.ca621f8a-b534-11ee-8de6-34c93d2b1695.xml\n",
      "Image:C:\\Users\\Vlad\\Hand detection\\TFODCourse\\Tensorflow\\workspace\\images\\collectedimages\\thumbsdown\\thumbsdown.cdfb7e3f-b534-11ee-b85d-34c93d2b1695.jpg -> Annotation:C:/Users/Vlad/Hand detection/TFODCourse/Tensorflow/workspace/images/collectedimages/thumbsdown\\thumbsdown.cdfb7e3f-b534-11ee-b85d-34c93d2b1695.xml\n",
      "Image:C:\\Users\\Vlad\\Hand detection\\TFODCourse\\Tensorflow\\workspace\\images\\collectedimages\\thumbsdown\\thumbsdown.cfc7e6b7-b534-11ee-b464-34c93d2b1695.jpg -> Annotation:C:/Users/Vlad/Hand detection/TFODCourse/Tensorflow/workspace/images/collectedimages/thumbsdown\\thumbsdown.cfc7e6b7-b534-11ee-b464-34c93d2b1695.xml\n",
      "Image:C:\\Users\\Vlad\\Hand detection\\TFODCourse\\Tensorflow\\workspace\\images\\collectedimages\\thumbsdown\\thumbsdown.d6f8d617-b534-11ee-a5b7-34c93d2b1695.jpg -> Annotation:C:/Users/Vlad/Hand detection/TFODCourse/Tensorflow/workspace/images/collectedimages/thumbsdown\\thumbsdown.d6f8d617-b534-11ee-a5b7-34c93d2b1695.xml\n",
      "Image:C:\\Users\\Vlad\\Hand detection\\TFODCourse\\Tensorflow\\workspace\\images\\collectedimages\\thumbsdown\\thumbsdown.d8ca4557-b534-11ee-92a2-34c93d2b1695.jpg -> Annotation:C:/Users/Vlad/Hand detection/TFODCourse/Tensorflow/workspace/images/collectedimages/thumbsdown\\thumbsdown.d8ca4557-b534-11ee-92a2-34c93d2b1695.xml\n",
      "Image:C:\\Users\\Vlad\\Hand detection\\TFODCourse\\Tensorflow\\workspace\\images\\collectedimages\\thumbsdown\\thumbsdown.d52d1ff5-b534-11ee-aece-34c93d2b1695.jpg -> Annotation:C:/Users/Vlad/Hand detection/TFODCourse/Tensorflow/workspace/images/collectedimages/thumbsdown\\thumbsdown.d52d1ff5-b534-11ee-aece-34c93d2b1695.xml\n",
      "Image:C:\\Users\\Vlad\\Hand detection\\TFODCourse\\Tensorflow\\workspace\\images\\collectedimages\\thumbsdown\\thumbsdown.d3617b1e-b534-11ee-91f1-34c93d2b1695.jpg -> Annotation:C:/Users/Vlad/Hand detection/TFODCourse/Tensorflow/workspace/images/collectedimages/thumbsdown\\thumbsdown.d3617b1e-b534-11ee-91f1-34c93d2b1695.xml\n",
      "Image:C:\\Users\\Vlad\\Hand detection\\TFODCourse\\Tensorflow\\workspace\\images\\collectedimages\\thumbsdown\\thumbsdown.d1949529-b534-11ee-bc25-34c93d2b1695.jpg -> Annotation:C:/Users/Vlad/Hand detection/TFODCourse/Tensorflow/workspace/images/collectedimages/thumbsdown\\thumbsdown.d1949529-b534-11ee-bc25-34c93d2b1695.xml\n",
      "Image:C:\\Users\\Vlad\\Hand detection\\TFODCourse\\Tensorflow\\workspace\\images\\collectedimages\\thumbsdown\\thumbsdown.da96f04f-b534-11ee-ae74-34c93d2b1695.jpg -> Annotation:C:/Users/Vlad/Hand detection/TFODCourse/Tensorflow/workspace/images/collectedimages/thumbsdown\\thumbsdown.da96f04f-b534-11ee-ae74-34c93d2b1695.xml\n",
      "Image:C:\\Users\\Vlad\\Hand detection\\TFODCourse\\Tensorflow\\workspace\\images\\collectedimages\\thumbsdown\\thumbsdown.dc679033-b534-11ee-b145-34c93d2b1695.jpg -> Annotation:C:/Users/Vlad/Hand detection/TFODCourse/Tensorflow/workspace/images/collectedimages/thumbsdown\\thumbsdown.dc679033-b534-11ee-b145-34c93d2b1695.xml\n",
      "Image:C:\\Users\\Vlad\\Hand detection\\TFODCourse\\Tensorflow\\workspace\\images\\collectedimages\\thumbsup\\thumbsup.03430b58-b535-11ee-aaa0-34c93d2b1695.jpg -> Annotation:C:/Users/Vlad/Hand detection/TFODCourse/Tensorflow/workspace/images/collectedimages/thumbsup\\thumbsup.03430b58-b535-11ee-aaa0-34c93d2b1695.xml\n",
      "Image:C:\\Users\\Vlad\\Hand detection\\TFODCourse\\Tensorflow\\workspace\\images\\collectedimages\\thumbsup\\thumbsup.017632a3-b535-11ee-a75d-34c93d2b1695.jpg -> Annotation:C:/Users/Vlad/Hand detection/TFODCourse/Tensorflow/workspace/images/collectedimages/thumbsup\\thumbsup.017632a3-b535-11ee-a75d-34c93d2b1695.xml\n",
      "Image:C:\\Users\\Vlad\\Hand detection\\TFODCourse\\Tensorflow\\workspace\\images\\collectedimages\\thumbsup\\thumbsup.05101896-b535-11ee-b8df-34c93d2b1695.jpg -> Annotation:C:/Users/Vlad/Hand detection/TFODCourse/Tensorflow/workspace/images/collectedimages/thumbsup\\thumbsup.05101896-b535-11ee-b8df-34c93d2b1695.xml\n",
      "Image:C:\\Users\\Vlad\\Hand detection\\TFODCourse\\Tensorflow\\workspace\\images\\collectedimages\\thumbsup\\thumbsup.e2cf2d03-b534-11ee-969f-34c93d2b1695.jpg -> Annotation:C:/Users/Vlad/Hand detection/TFODCourse/Tensorflow/workspace/images/collectedimages/thumbsup\\thumbsup.e2cf2d03-b534-11ee-969f-34c93d2b1695.xml\n",
      "Image:C:\\Users\\Vlad\\Hand detection\\TFODCourse\\Tensorflow\\workspace\\images\\collectedimages\\thumbsup\\thumbsup.e49b4edb-b534-11ee-96aa-34c93d2b1695.jpg -> Annotation:C:/Users/Vlad/Hand detection/TFODCourse/Tensorflow/workspace/images/collectedimages/thumbsup\\thumbsup.e49b4edb-b534-11ee-96aa-34c93d2b1695.xml\n",
      "Image:C:\\Users\\Vlad\\Hand detection\\TFODCourse\\Tensorflow\\workspace\\images\\collectedimages\\thumbsup\\thumbsup.e667e674-b534-11ee-8f16-34c93d2b1695.jpg -> Annotation:C:/Users/Vlad/Hand detection/TFODCourse/Tensorflow/workspace/images/collectedimages/thumbsup\\thumbsup.e667e674-b534-11ee-8f16-34c93d2b1695.xml\n",
      "Image:C:\\Users\\Vlad\\Hand detection\\TFODCourse\\Tensorflow\\workspace\\images\\collectedimages\\thumbsup\\thumbsup.e8396fd9-b534-11ee-b10d-34c93d2b1695.jpg -> Annotation:C:/Users/Vlad/Hand detection/TFODCourse/Tensorflow/workspace/images/collectedimages/thumbsup\\thumbsup.e8396fd9-b534-11ee-b10d-34c93d2b1695.xml\n",
      "Image:C:\\Users\\Vlad\\Hand detection\\TFODCourse\\Tensorflow\\workspace\\images\\collectedimages\\thumbsup\\thumbsup.ea062732-b534-11ee-be6c-34c93d2b1695.jpg -> Annotation:C:/Users/Vlad/Hand detection/TFODCourse/Tensorflow/workspace/images/collectedimages/thumbsup\\thumbsup.ea062732-b534-11ee-be6c-34c93d2b1695.xml\n",
      "Image:C:\\Users\\Vlad\\Hand detection\\TFODCourse\\Tensorflow\\workspace\\images\\collectedimages\\thumbsup\\thumbsup.ebd29cdc-b534-11ee-8bdd-34c93d2b1695.jpg -> Annotation:C:/Users/Vlad/Hand detection/TFODCourse/Tensorflow/workspace/images/collectedimages/thumbsup\\thumbsup.ebd29cdc-b534-11ee-8bdd-34c93d2b1695.xml\n",
      "Image:C:\\Users\\Vlad\\Hand detection\\TFODCourse\\Tensorflow\\workspace\\images\\collectedimages\\thumbsup\\thumbsup.ed9ff99e-b534-11ee-a5d6-34c93d2b1695.jpg -> Annotation:C:/Users/Vlad/Hand detection/TFODCourse/Tensorflow/workspace/images/collectedimages/thumbsup\\thumbsup.ed9ff99e-b534-11ee-a5d6-34c93d2b1695.xml\n",
      "Image:C:\\Users\\Vlad\\Hand detection\\TFODCourse\\Tensorflow\\workspace\\images\\collectedimages\\thumbsup\\thumbsup.ef6c1d3e-b534-11ee-80ad-34c93d2b1695.jpg -> Annotation:C:/Users/Vlad/Hand detection/TFODCourse/Tensorflow/workspace/images/collectedimages/thumbsup\\thumbsup.ef6c1d3e-b534-11ee-80ad-34c93d2b1695.xml\n",
      "Image:C:\\Users\\Vlad\\Hand detection\\TFODCourse\\Tensorflow\\workspace\\images\\collectedimages\\thumbsup\\thumbsup.f4d7779c-b534-11ee-b810-34c93d2b1695.jpg -> Annotation:C:/Users/Vlad/Hand detection/TFODCourse/Tensorflow/workspace/images/collectedimages/thumbsup\\thumbsup.f4d7779c-b534-11ee-b810-34c93d2b1695.xml\n",
      "Image:C:\\Users\\Vlad\\Hand detection\\TFODCourse\\Tensorflow\\workspace\\images\\collectedimages\\thumbsup\\thumbsup.f6a43ecb-b534-11ee-8a2d-34c93d2b1695.jpg -> Annotation:C:/Users/Vlad/Hand detection/TFODCourse/Tensorflow/workspace/images/collectedimages/thumbsup\\thumbsup.f6a43ecb-b534-11ee-8a2d-34c93d2b1695.xml\n",
      "Image:C:\\Users\\Vlad\\Hand detection\\TFODCourse\\Tensorflow\\workspace\\images\\collectedimages\\thumbsup\\thumbsup.f13ef725-b534-11ee-83f1-34c93d2b1695.jpg -> Annotation:C:/Users/Vlad/Hand detection/TFODCourse/Tensorflow/workspace/images/collectedimages/thumbsup\\thumbsup.f13ef725-b534-11ee-83f1-34c93d2b1695.xml\n",
      "Image:C:\\Users\\Vlad\\Hand detection\\TFODCourse\\Tensorflow\\workspace\\images\\collectedimages\\thumbsup\\thumbsup.f30af63e-b534-11ee-93c1-34c93d2b1695.jpg -> Annotation:C:/Users/Vlad/Hand detection/TFODCourse/Tensorflow/workspace/images/collectedimages/thumbsup\\thumbsup.f30af63e-b534-11ee-93c1-34c93d2b1695.xml\n",
      "Image:C:\\Users\\Vlad\\Hand detection\\TFODCourse\\Tensorflow\\workspace\\images\\collectedimages\\thumbsup\\thumbsup.f8709d95-b534-11ee-8a40-34c93d2b1695.jpg -> Annotation:C:/Users/Vlad/Hand detection/TFODCourse/Tensorflow/workspace/images/collectedimages/thumbsup\\thumbsup.f8709d95-b534-11ee-8a40-34c93d2b1695.xml\n",
      "Cancel creation.\n",
      "Image:C:\\Users\\Vlad\\Hand detection\\TFODCourse\\Tensorflow\\workspace\\images\\collectedimages\\thumbsup\\thumbsup.fddd4104-b534-11ee-96e7-34c93d2b1695.jpg -> Annotation:C:/Users/Vlad/Hand detection/TFODCourse/Tensorflow/workspace/images/collectedimages/thumbsup\\thumbsup.fddd4104-b534-11ee-96e7-34c93d2b1695.xml\n",
      "Image:C:\\Users\\Vlad\\Hand detection\\TFODCourse\\Tensorflow\\workspace\\images\\collectedimages\\thumbsup\\thumbsup.ffa95b1f-b534-11ee-a41e-34c93d2b1695.jpg -> Annotation:C:/Users/Vlad/Hand detection/TFODCourse/Tensorflow/workspace/images/collectedimages/thumbsup\\thumbsup.ffa95b1f-b534-11ee-a41e-34c93d2b1695.xml\n"
     ]
    }
   ],
   "source": [
    "!cd {LABELIMG_PATH} && python labelImg.py"
   ]
  },
  {
   "cell_type": "markdown",
   "metadata": {},
   "source": [
    "# 6. Move them into a Training and Testing Partition"
   ]
  },
  {
   "cell_type": "markdown",
   "metadata": {},
   "source": [
    "# OPTIONAL - 7. Compress them for Colab Training"
   ]
  },
  {
   "cell_type": "code",
   "execution_count": 20,
   "metadata": {},
   "outputs": [],
   "source": [
    "TRAIN_PATH = os.path.join('Tensorflow', 'workspace', 'images', 'train')\n",
    "TEST_PATH = os.path.join('Tensorflow', 'workspace', 'images', 'test')\n",
    "ARCHIVE_PATH = os.path.join('Tensorflow', 'workspace', 'images', 'archive.tar.gz')"
   ]
  },
  {
   "cell_type": "code",
   "execution_count": 21,
   "metadata": {},
   "outputs": [],
   "source": [
    "!tar -czf {ARCHIVE_PATH} {TRAIN_PATH} {TEST_PATH}"
   ]
  },
  {
   "cell_type": "code",
   "execution_count": null,
   "metadata": {},
   "outputs": [],
   "source": []
  }
 ],
 "metadata": {
  "kernelspec": {
   "display_name": "tfod",
   "language": "python",
   "name": "tfod"
  },
  "language_info": {
   "codemirror_mode": {
    "name": "ipython",
    "version": 3
   },
   "file_extension": ".py",
   "mimetype": "text/x-python",
   "name": "python",
   "nbconvert_exporter": "python",
   "pygments_lexer": "ipython3",
   "version": "3.11.7"
  }
 },
 "nbformat": 4,
 "nbformat_minor": 4
}
